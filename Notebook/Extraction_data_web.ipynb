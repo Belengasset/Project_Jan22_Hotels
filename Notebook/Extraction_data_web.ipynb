{
 "cells": [
  {
   "cell_type": "code",
   "execution_count": 15,
   "id": "22caef04",
   "metadata": {},
   "outputs": [],
   "source": [
    "import requests\n",
    "import pandas as pd\n",
    "from time import sleep\n",
    "import numpy as np\n",
    "\n",
    "from selenium import webdriver\n",
    "from webdriver_manager.chrome import ChromeDriverManager\n",
    "from selenium.webdriver.common.keys import Keys\n",
    "from selenium.webdriver.chrome.options import Options\n",
    "\n",
    "\n",
    "\n",
    "\n",
    "import warnings\n",
    "warnings.filterwarnings('ignore')"
   ]
  },
  {
   "cell_type": "code",
   "execution_count": 16,
   "id": "f5c7a384",
   "metadata": {
    "scrolled": true
   },
   "outputs": [
    {
     "data": {
      "text/html": [
       "<div>\n",
       "<style scoped>\n",
       "    .dataframe tbody tr th:only-of-type {\n",
       "        vertical-align: middle;\n",
       "    }\n",
       "\n",
       "    .dataframe tbody tr th {\n",
       "        vertical-align: top;\n",
       "    }\n",
       "\n",
       "    .dataframe thead th {\n",
       "        text-align: right;\n",
       "    }\n",
       "</style>\n",
       "<table border=\"1\" class=\"dataframe\">\n",
       "  <thead>\n",
       "    <tr style=\"text-align: right;\">\n",
       "      <th></th>\n",
       "      <th>Hotel</th>\n",
       "      <th>Location</th>\n",
       "      <th>Country</th>\n",
       "      <th>Region</th>\n",
       "      <th>Company</th>\n",
       "      <th>Score</th>\n",
       "      <th>Rank</th>\n",
       "      <th>Rooms</th>\n",
       "      <th>Hotel_type</th>\n",
       "      <th>Theme</th>\n",
       "      <th>Year</th>\n",
       "      <th>Century</th>\n",
       "      <th>2021_Rank</th>\n",
       "      <th>Past_rank</th>\n",
       "      <th>Rank_Year</th>\n",
       "    </tr>\n",
       "  </thead>\n",
       "  <tbody>\n",
       "    <tr>\n",
       "      <th>0</th>\n",
       "      <td>Rosewood Castiglion del Bosco</td>\n",
       "      <td>Montalcino</td>\n",
       "      <td>Italy</td>\n",
       "      <td>Europe</td>\n",
       "      <td>Massimo and Chiara Ferragamo</td>\n",
       "      <td>99.25</td>\n",
       "      <td>1</td>\n",
       "      <td>53</td>\n",
       "      <td>Small</td>\n",
       "      <td>Countryside</td>\n",
       "      <td>2000</td>\n",
       "      <td>21</td>\n",
       "      <td>0.0</td>\n",
       "      <td>0.0</td>\n",
       "      <td>2022</td>\n",
       "    </tr>\n",
       "    <tr>\n",
       "      <th>1</th>\n",
       "      <td>Grace Hotel</td>\n",
       "      <td>Santorini</td>\n",
       "      <td>Greece</td>\n",
       "      <td>Europe</td>\n",
       "      <td>Auberge Resorts Collection</td>\n",
       "      <td>99.22</td>\n",
       "      <td>2</td>\n",
       "      <td>20</td>\n",
       "      <td>Small</td>\n",
       "      <td>Coastal</td>\n",
       "      <td>2000</td>\n",
       "      <td>21</td>\n",
       "      <td>1.0</td>\n",
       "      <td>6.0</td>\n",
       "      <td>2022</td>\n",
       "    </tr>\n",
       "    <tr>\n",
       "      <th>2</th>\n",
       "      <td>Waldorf Astoria Maldives Ithaafushi</td>\n",
       "      <td>Ithaafushi Island</td>\n",
       "      <td>Maldives</td>\n",
       "      <td>Southeast Asia</td>\n",
       "      <td>Hilton</td>\n",
       "      <td>99.11</td>\n",
       "      <td>3</td>\n",
       "      <td>119</td>\n",
       "      <td>Small</td>\n",
       "      <td>Island</td>\n",
       "      <td>2019</td>\n",
       "      <td>21</td>\n",
       "      <td>1.0</td>\n",
       "      <td>80.0</td>\n",
       "      <td>2022</td>\n",
       "    </tr>\n",
       "    <tr>\n",
       "      <th>3</th>\n",
       "      <td>Pickering House Inn</td>\n",
       "      <td>Wolfeboro</td>\n",
       "      <td>United States</td>\n",
       "      <td>North America</td>\n",
       "      <td>Peter and Patty Cooke</td>\n",
       "      <td>98.95</td>\n",
       "      <td>4</td>\n",
       "      <td>10</td>\n",
       "      <td>Small</td>\n",
       "      <td>Boutique</td>\n",
       "      <td>1813</td>\n",
       "      <td>19</td>\n",
       "      <td>1.0</td>\n",
       "      <td>34.0</td>\n",
       "      <td>2022</td>\n",
       "    </tr>\n",
       "    <tr>\n",
       "      <th>4</th>\n",
       "      <td>One&amp;Only Reethi Rah</td>\n",
       "      <td>North Malé Atoll</td>\n",
       "      <td>Maldives</td>\n",
       "      <td>Southeast Asia</td>\n",
       "      <td>Kerzner International</td>\n",
       "      <td>98.93</td>\n",
       "      <td>5</td>\n",
       "      <td>130</td>\n",
       "      <td>Small</td>\n",
       "      <td>Island</td>\n",
       "      <td>2005</td>\n",
       "      <td>21</td>\n",
       "      <td>0.0</td>\n",
       "      <td>0.0</td>\n",
       "      <td>2022</td>\n",
       "    </tr>\n",
       "  </tbody>\n",
       "</table>\n",
       "</div>"
      ],
      "text/plain": [
       "                                 Hotel           Location        Country  \\\n",
       "0        Rosewood Castiglion del Bosco         Montalcino          Italy   \n",
       "1                          Grace Hotel          Santorini         Greece   \n",
       "2  Waldorf Astoria Maldives Ithaafushi  Ithaafushi Island       Maldives   \n",
       "3                  Pickering House Inn          Wolfeboro  United States   \n",
       "4                  One&Only Reethi Rah   North Malé Atoll       Maldives   \n",
       "\n",
       "           Region                       Company  Score  Rank  Rooms  \\\n",
       "0          Europe  Massimo and Chiara Ferragamo  99.25     1     53   \n",
       "1          Europe    Auberge Resorts Collection  99.22     2     20   \n",
       "2  Southeast Asia                        Hilton  99.11     3    119   \n",
       "3   North America        Peter and Patty Cooke   98.95     4     10   \n",
       "4  Southeast Asia         Kerzner International  98.93     5    130   \n",
       "\n",
       "  Hotel_type        Theme  Year  Century  2021_Rank  Past_rank  Rank_Year  \n",
       "0      Small  Countryside  2000       21        0.0        0.0       2022  \n",
       "1      Small      Coastal  2000       21        1.0        6.0       2022  \n",
       "2      Small       Island  2019       21        1.0       80.0       2022  \n",
       "3      Small    Boutique   1813       19        1.0       34.0       2022  \n",
       "4      Small       Island  2005       21        0.0        0.0       2022  "
      ]
     },
     "execution_count": 16,
     "metadata": {},
     "output_type": "execute_result"
    }
   ],
   "source": [
    "df = pd.read_csv(\"Data/df_hotels_22&21.csv\", sep=',', encoding='UTF-8', index_col=0)\n",
    "pd.options.display.max_columns = None\n",
    "df.head(5)"
   ]
  },
  {
   "cell_type": "code",
   "execution_count": 18,
   "id": "787bb1be",
   "metadata": {
    "scrolled": false
   },
   "outputs": [
    {
     "data": {
      "text/html": [
       "<div>\n",
       "<style scoped>\n",
       "    .dataframe tbody tr th:only-of-type {\n",
       "        vertical-align: middle;\n",
       "    }\n",
       "\n",
       "    .dataframe tbody tr th {\n",
       "        vertical-align: top;\n",
       "    }\n",
       "\n",
       "    .dataframe thead th {\n",
       "        text-align: right;\n",
       "    }\n",
       "</style>\n",
       "<table border=\"1\" class=\"dataframe\">\n",
       "  <thead>\n",
       "    <tr style=\"text-align: right;\">\n",
       "      <th></th>\n",
       "      <th>Hotel</th>\n",
       "      <th>Location</th>\n",
       "      <th>Country</th>\n",
       "      <th>Region</th>\n",
       "      <th>Company</th>\n",
       "      <th>Score</th>\n",
       "      <th>Rank</th>\n",
       "      <th>Rooms</th>\n",
       "      <th>Hotel_type</th>\n",
       "      <th>Theme</th>\n",
       "      <th>Year</th>\n",
       "      <th>Century</th>\n",
       "      <th>2021_Rank</th>\n",
       "      <th>Past_rank</th>\n",
       "      <th>Rank_Year</th>\n",
       "    </tr>\n",
       "  </thead>\n",
       "  <tbody>\n",
       "    <tr>\n",
       "      <th>0</th>\n",
       "      <td>Rosewood Castiglion del Bosco</td>\n",
       "      <td>Montalcino</td>\n",
       "      <td>Italy</td>\n",
       "      <td>Europe</td>\n",
       "      <td>Massimo and Chiara Ferragamo</td>\n",
       "      <td>99.25</td>\n",
       "      <td>1</td>\n",
       "      <td>53</td>\n",
       "      <td>Small</td>\n",
       "      <td>Countryside</td>\n",
       "      <td>2000</td>\n",
       "      <td>21</td>\n",
       "      <td>0.0</td>\n",
       "      <td>0.0</td>\n",
       "      <td>2022</td>\n",
       "    </tr>\n",
       "  </tbody>\n",
       "</table>\n",
       "</div>"
      ],
      "text/plain": [
       "                           Hotel    Location Country  Region  \\\n",
       "0  Rosewood Castiglion del Bosco  Montalcino   Italy  Europe   \n",
       "\n",
       "                        Company  Score  Rank  Rooms Hotel_type        Theme  \\\n",
       "0  Massimo and Chiara Ferragamo  99.25     1     53      Small  Countryside   \n",
       "\n",
       "   Year  Century  2021_Rank  Past_rank  Rank_Year  \n",
       "0  2000       21        0.0        0.0       2022  "
      ]
     },
     "execution_count": 18,
     "metadata": {},
     "output_type": "execute_result"
    }
   ],
   "source": [
    "pd.set_option('display.max_rows', None)\n",
    "df.head(1)"
   ]
  },
  {
   "cell_type": "code",
   "execution_count": 22,
   "id": "508e8e10",
   "metadata": {},
   "outputs": [
    {
     "name": "stdout",
     "output_type": "stream",
     "text": [
      "float64\n"
     ]
    }
   ],
   "source": [
    "print(df['Past_rank'].dtypes)"
   ]
  },
  {
   "cell_type": "markdown",
   "id": "01f11358",
   "metadata": {},
   "source": [
    "To avoid getting errors in the google scraping I am going to link the hotel with the company"
   ]
  },
  {
   "cell_type": "code",
   "execution_count": 9,
   "id": "41229666",
   "metadata": {},
   "outputs": [],
   "source": [
    "def add_columns(row):\n",
    "    return f\"hotel {row['Hotel']}\""
   ]
  },
  {
   "cell_type": "code",
   "execution_count": 14,
   "id": "fb46b9da",
   "metadata": {},
   "outputs": [
    {
     "data": {
      "text/html": [
       "<div>\n",
       "<style scoped>\n",
       "    .dataframe tbody tr th:only-of-type {\n",
       "        vertical-align: middle;\n",
       "    }\n",
       "\n",
       "    .dataframe tbody tr th {\n",
       "        vertical-align: top;\n",
       "    }\n",
       "\n",
       "    .dataframe thead th {\n",
       "        text-align: right;\n",
       "    }\n",
       "</style>\n",
       "<table border=\"1\" class=\"dataframe\">\n",
       "  <thead>\n",
       "    <tr style=\"text-align: right;\">\n",
       "      <th></th>\n",
       "      <th>Hotel</th>\n",
       "      <th>Hotel_buscador</th>\n",
       "    </tr>\n",
       "  </thead>\n",
       "  <tbody>\n",
       "    <tr>\n",
       "      <th>0</th>\n",
       "      <td>Rosewood Castiglion del Bosco</td>\n",
       "      <td>hotel Rosewood Castiglion del Bosco</td>\n",
       "    </tr>\n",
       "    <tr>\n",
       "      <th>1</th>\n",
       "      <td>Grace Hotel</td>\n",
       "      <td>hotel Grace Hotel</td>\n",
       "    </tr>\n",
       "    <tr>\n",
       "      <th>2</th>\n",
       "      <td>Waldorf Astoria Maldives Ithaafushi</td>\n",
       "      <td>hotel Waldorf Astoria Maldives Ithaafushi</td>\n",
       "    </tr>\n",
       "    <tr>\n",
       "      <th>3</th>\n",
       "      <td>Pickering House Inn</td>\n",
       "      <td>hotel Pickering House Inn</td>\n",
       "    </tr>\n",
       "    <tr>\n",
       "      <th>4</th>\n",
       "      <td>One&amp;Only Reethi Rah</td>\n",
       "      <td>hotel One&amp;Only Reethi Rah</td>\n",
       "    </tr>\n",
       "  </tbody>\n",
       "</table>\n",
       "</div>"
      ],
      "text/plain": [
       "                                 Hotel  \\\n",
       "0        Rosewood Castiglion del Bosco   \n",
       "1                          Grace Hotel   \n",
       "2  Waldorf Astoria Maldives Ithaafushi   \n",
       "3                  Pickering House Inn   \n",
       "4                  One&Only Reethi Rah   \n",
       "\n",
       "                              Hotel_buscador  \n",
       "0        hotel Rosewood Castiglion del Bosco  \n",
       "1                          hotel Grace Hotel  \n",
       "2  hotel Waldorf Astoria Maldives Ithaafushi  \n",
       "3                  hotel Pickering House Inn  \n",
       "4                  hotel One&Only Reethi Rah  "
      ]
     },
     "execution_count": 14,
     "metadata": {},
     "output_type": "execute_result"
    }
   ],
   "source": [
    "df_hoteles_google = df[[\"Hotel\"]]\n",
    "df_hoteles_google[\"Hotel_buscador\"] = df_hoteles_google.apply(join_columns, axis=1)\n",
    "df_hoteles_google.head()"
   ]
  },
  {
   "cell_type": "code",
   "execution_count": 15,
   "id": "a5617463",
   "metadata": {},
   "outputs": [
    {
     "name": "stdout",
     "output_type": "stream",
     "text": [
      "['hotel Rosewood Castiglion del Bosco', 'hotel Grace Hotel', 'hotel Waldorf Astoria Maldives Ithaafushi', 'hotel Pickering House Inn', 'hotel One&Only Reethi Rah', 'hotel Royal Mansour Marrakech', 'hotel Capella Ubud', 'hotel The Lowell', 'hotel Hôtel Madame Rêve', 'hotel Rosewood Villa Magna', 'hotel The Oberoi New Delhi', 'hotel The Oberoi Udaivilas', 'hotel Mandapa, a Ritz-Carlton Reserve', 'hotel Wilderness Safaris Bisate Lodge', 'hotel Portrait Firenze', 'hotel Raffles Istanbul', 'hotel The Oberoi Marrakech', 'hotel Capella Hanoi', 'hotel White Elephant Palm Beach', 'hotel The Loutrel', 'hotel Monasterio', 'hotel Sani Asterias', 'hotel Shangri-La the Shard', 'hotel Coquillade Provence Resort & Spa', 'hotel Taj Palace', 'hotel Pendry Chicago', 'hotel Nayara Tented Camp', 'hotel Hotel Belmar', 'hotel Royal Champagne Hôtel & Spa', 'hotel Under Canvas Mount Rushmore', 'hotel Riggs Washington D.C.', 'hotel Waldorf Astoria Los Cabos Pedregal', 'hotel The Oberoi Vanyavilas Wildlife Resort', 'hotel Canaves Oia Epitome ', 'hotel The Standard ', 'hotel The Oberoi Amarvilas', 'hotel Hotel Santa Caterina', \"hotel Raffles Grand Hotel d'Angkor\", 'hotel Nihi Sumba', 'hotel La Réserve Paris', 'hotel Hotel de la Ville', 'hotel Il San Pietro di Positano', 'hotel Six Senses Yao Noi', 'hotel Finca Cortesin Hotel Golf & Spa', 'hotel Secret Bay', 'hotel Cape Grace', 'hotel Taj Lake Palace', 'hotel Taj Falaknuma Palace', 'hotel Alila Villas Uluwatu', 'hotel Manoir Hovey', 'hotel Six Senses Con Dao', 'hotel Cavas Wine Lodge', 'hotel Grand Hotel Tremezzo', 'hotel Nayara Springs', 'hotel Lodge on Little St. Simons Island', 'hotel Rancho Santana', 'hotel Amanpuri', 'hotel Mandarin Oriental Marrakech', 'hotel Namale Resort & Spa', \"hotel Gibb's Farm\", 'hotel Jade Mountain', 'hotel Borgo Egnazia', 'hotel Four Seasons Hotel Kyoto', 'hotel San Ysidro Ranch', 'hotel The Goring', 'hotel The Oberoi Rajvilas', 'hotel Palm Island Resort', 'hotel Hotel Savoy', 'hotel Rambagh Palace', 'hotel Curtain Bluff', 'hotel Morrison House Old Town Alexandria, Autograph Collection', 'hotel The Lytle Park Hotel, Autograph Collection', 'hotel Twin Farms', 'hotel Deer Path Inn', 'hotel One&Only Nyungwe House', 'hotel W Santiago', 'hotel Shangri-La Singapore', \"hotel L'Ermitage Beverly Hills\", 'hotel Silo Hotel', 'hotel Katikies Santorini', 'hotel Nobu Hotel', 'hotel The Shore Club', 'hotel Taj Holiday Village Resort & Spa', 'hotel Mandarin Oriental Bangkok', 'hotel Auberge Saint-Antoine', 'hotel Rosewood Miramar Beach', 'hotel Rio Celeste Hideaway Hotel', 'hotel Hotel Caesar Augustus', 'hotel Grand Hotel Villa Serbelloni', 'hotel Le Bristol Paris', 'hotel Shangri-La Bosphorus', 'hotel The Palms Turks & Caicos', 'hotel The Lodge at Blue Sky, Auberge Resorts Collection', 'hotel Little Palm Island Resort & Spa', 'hotel Le Sirenuse', 'hotel andBeyond Ngorongoro Crater Lodge', 'hotel Casa San Agustín', 'hotel The Connaught', 'hotel Wentworth Mansion', 'hotel Taj Lands End', 'hotel Birkenhead House', 'hotel Mahali Mzuri', 'hotel Nayara Tented Group', 'hotel The Opposite House', 'hotel Capella Bangkok', 'hotel Capella Ubud', 'hotel Grace Hotel', 'hotel Kamalame Cay', 'hotel The Oberoi Udaivilas', 'hotel The Temple House', 'hotel The Oberoi New Delhi', 'hotel Hotel Paracas', 'hotel Taj Holiday Village Resort & Spa', 'hotel Savute Elephant Lodge, A Belmond Safari', 'hotel The Oberoi Vanyavilas Wildlife Resort', 'hotel Mandarin Oriental Milan', 'hotel La Reserve Paris', 'hotel Nobu Ryokan', 'hotel Soneva Fushi', 'hotel Shangri-La the Shard', 'hotel Alila Manggis', 'hotel Phinda Vlei Lodge', 'hotel Il Sereno Lago di Como', 'hotel Manoir Hovey', 'hotel Canaves Oia Epitome ', 'hotel Istanbul At Sultanahmet', 'hotel The Peninsula Manila', 'hotel Hotel Il Pellicano', 'hotel Hotel Fasano Boa Vista', 'hotel Halekulani Okinawa', 'hotel The Lake House on Canandaigua', 'hotel Hyatt Regency Amritsar', 'hotel Leela Palace Udaipur', 'hotel Nayara Gardens', 'hotel Pickering House Inn', 'hotel Rancho Valencia Resort & Spa', 'hotel Nihi Sumba', 'hotel The Oberoi Mumbai', 'hotel Tierra Atacama Hotel & Spa', 'hotel Viceroy Riviera Maya', 'hotel St. Regis Istanbul', 'hotel Katikies Mykonos', 'hotel The Lanesborough', 'hotel Mandarin Oriental Bangkok', 'hotel The Roundtree', 'hotel Mashpi Lodge', 'hotel Angama Mara', 'hotel Raffles Istanbul', 'hotel Grand Hotel Excelsior Vittoria', 'hotel Sumaq Machu Picchu Hotel', 'hotel Las Ventanas al Paraíso', 'hotel The Oberoi Rajvilas', 'hotel Viceroy Chicago', \"hotel Gibb's Farm\", 'hotel Singita Grumeti', 'hotel Four Seasons Bangkok', 'hotel The Goring', 'hotel The Lodge & Spa at Brush Creek Ranch', 'hotel Taj Palace', 'hotel St. Regis Florence', 'hotel Mandarin Oriental Paris', 'hotel Matetsi Victoria Falls', 'hotel Round Hill Hotel and Villas', 'hotel Khwai River Lodge', 'hotel Soneva Jani', 'hotel The Oberoi Amarvilas', 'hotel Inn of the Five Graces', 'hotel Zadun, a Ritz-Carlton Reserve', 'hotel Mfuwe Lodge', 'hotel InterContinental Bora Bora Resort & Thalasso Spa', 'hotel Banyan Tree Cabo Marqués', 'hotel Ngala Safari Lodge', 'hotel Sasaab', 'hotel The Sukhothai Bangkok', 'hotel The Oberoi Grand', 'hotel Hôtel Plaza Athénée', 'hotel Mahekal Beach Resort', 'hotel The Fullerton Hotel Singapore', 'hotel Jade Mountain', 'hotel Casa Chameleon', 'hotel Hôtel Crillon Le Brave', 'hotel Le Bristol Paris', 'hotel Mandapa, a Ritz-Carlton Reserve', 'hotel Six Senses Laamu', 'hotel Waldorf Astoria Maldives Ithaafushi', 'hotel The Wickaninnish Inn', 'hotel Penha Longa Resort', 'hotel The St. Regis Bora Bora Resort', 'hotel Lion Sands Game Reserve', 'hotel Rambagh Palace', 'hotel The Oyster Box', 'hotel The Stafford', 'hotel Tambo del Inka, a Luxury Collection Resort & Spa', 'hotel Cap Maison', 'hotel Tensing Pen', 'hotel Hôtel Le Toiny', 'hotel Rosewood Mayakoba', 'hotel Canaves Oia Boutique Hotel', 'hotel Montage Los Cabos', \"hotel Badrutt's Palace Hotel\", 'hotel Finca Cortesin Hotel Golf & Spa']\n"
     ]
    }
   ],
   "source": [
    "hotel_rev_google = df_hoteles_google[\"Hotel_buscador\"].tolist()\n",
    "print(hotel_rev_google)"
   ]
  },
  {
   "cell_type": "code",
   "execution_count": 145,
   "id": "d4b1a874",
   "metadata": {},
   "outputs": [
    {
     "name": "stdout",
     "output_type": "stream",
     "text": [
      "['Rosewood Castiglion del Bosco', 'Grace Hotel', 'Waldorf Astoria Maldives Ithaafushi', 'Pickering House Inn', 'One&Only Reethi Rah', 'Royal Mansour Marrakech', 'Capella Ubud', 'The Lowell', 'Hôtel Madame Rêve', 'Rosewood Villa Magna', 'The Oberoi New Delhi', 'The Oberoi Udaivilas', 'Mandapa, a Ritz-Carlton Reserve', 'Wilderness Safaris Bisate Lodge', 'Portrait Firenze', 'Raffles Istanbul', 'The Oberoi Marrakech', 'Capella Hanoi', 'White Elephant Palm Beach', 'The Loutrel', 'Monasterio', 'Sani Asterias', 'Shangri-La the Shard', 'Coquillade Provence Resort & Spa', 'Taj Palace', 'Pendry Chicago', 'Nayara Tented Camp', 'Hotel Belmar', 'Royal Champagne Hôtel & Spa', 'Under Canvas Mount Rushmore', 'Riggs Washington D.C.', 'Waldorf Astoria Los Cabos Pedregal', 'The Oberoi Vanyavilas Wildlife Resort', 'Canaves Oia Epitome ', 'The Standard ', 'The Oberoi Amarvilas', 'Hotel Santa Caterina', \"Raffles Grand Hotel d'Angkor\", 'Nihi Sumba', 'La Réserve Paris', 'Hotel de la Ville', 'Il San Pietro di Positano', 'Six Senses Yao Noi', 'Finca Cortesin Hotel Golf & Spa', 'Secret Bay', 'Cape Grace', 'Taj Lake Palace', 'Taj Falaknuma Palace', 'Alila Villas Uluwatu', 'Manoir Hovey', 'Six Senses Con Dao', 'Cavas Wine Lodge', 'Grand Hotel Tremezzo', 'Nayara Springs', 'Lodge on Little St. Simons Island', 'Rancho Santana', 'Amanpuri', 'Mandarin Oriental Marrakech', 'Namale Resort & Spa', \"Gibb's Farm\", 'Jade Mountain', 'Borgo Egnazia', 'Four Seasons Hotel Kyoto', 'San Ysidro Ranch', 'The Goring', 'The Oberoi Rajvilas', 'Palm Island Resort', 'Hotel Savoy', 'Rambagh Palace', 'Curtain Bluff', 'Morrison House Old Town Alexandria, Autograph Collection', 'The Lytle Park Hotel, Autograph Collection', 'Twin Farms', 'Deer Path Inn', 'One&Only Nyungwe House', 'W Santiago', 'Shangri-La Singapore', \"L'Ermitage Beverly Hills\", 'Silo Hotel', 'Katikies Santorini', 'Nobu Hotel', 'The Shore Club', 'Taj Holiday Village Resort & Spa', 'Mandarin Oriental Bangkok', 'Auberge Saint-Antoine', 'Rosewood Miramar Beach', 'Rio Celeste Hideaway Hotel', 'Hotel Caesar Augustus', 'Grand Hotel Villa Serbelloni', 'Le Bristol Paris', 'Shangri-La Bosphorus', 'The Palms Turks & Caicos', 'The Lodge at Blue Sky, Auberge Resorts Collection', 'Little Palm Island Resort & Spa', 'Le Sirenuse', 'andBeyond Ngorongoro Crater Lodge', 'Casa San Agustín', 'The Connaught', 'Wentworth Mansion', 'Taj Lands End', 'Birkenhead House', 'Mahali Mzuri', 'Nayara Tented Group', 'The Opposite House', 'Capella Bangkok', 'Kamalame Cay', 'The Temple House', 'Hotel Paracas', 'Savute Elephant Lodge, A Belmond Safari', 'Mandarin Oriental Milan', 'La Reserve Paris', 'Nobu Ryokan', 'Soneva Fushi', 'Alila Manggis', 'Phinda Vlei Lodge', 'Il Sereno Lago di Como', 'Istanbul At Sultanahmet', 'The Peninsula Manila', 'Hotel Il Pellicano', 'Hotel Fasano Boa Vista', 'Halekulani Okinawa', 'The Lake House on Canandaigua', 'Hyatt Regency Amritsar', 'Leela Palace Udaipur', 'Nayara Gardens', 'Rancho Valencia Resort & Spa', 'The Oberoi Mumbai', 'Tierra Atacama Hotel & Spa', 'Viceroy Riviera Maya', 'St. Regis Istanbul', 'Katikies Mykonos', 'The Lanesborough', 'The Roundtree', 'Mashpi Lodge', 'Angama Mara', 'Grand Hotel Excelsior Vittoria', 'Sumaq Machu Picchu Hotel', 'Las Ventanas al Paraíso', 'Viceroy Chicago', 'Singita Grumeti', 'Four Seasons Bangkok', 'The Lodge & Spa at Brush Creek Ranch', 'St. Regis Florence', 'Mandarin Oriental Paris', 'Matetsi Victoria Falls', 'Round Hill Hotel and Villas', 'Khwai River Lodge', 'Soneva Jani', 'Inn of the Five Graces', 'Zadun, a Ritz-Carlton Reserve', 'Mfuwe Lodge', 'InterContinental Bora Bora Resort & Thalasso Spa', 'Banyan Tree Cabo Marqués', 'Ngala Safari Lodge', 'Sasaab', 'The Sukhothai Bangkok', 'The Oberoi Grand', 'Hôtel Plaza Athénée', 'Mahekal Beach Resort', 'The Fullerton Hotel Singapore', 'Casa Chameleon', 'Hôtel Crillon Le Brave', 'Six Senses Laamu', 'The Wickaninnish Inn', 'Penha Longa Resort', 'The St. Regis Bora Bora Resort', 'Lion Sands Game Reserve', 'The Oyster Box', 'The Stafford', 'Tambo del Inka, a Luxury Collection Resort & Spa', 'Cap Maison', 'Tensing Pen', 'Hôtel Le Toiny', 'Rosewood Mayakoba', 'Canaves Oia Boutique Hotel', 'Montage Los Cabos', \"Badrutt's Palace Hotel\"]\n"
     ]
    }
   ],
   "source": [
    "hotel_rev = df[\"Hotel\"].unique().tolist()\n",
    "print(hotel_rev)"
   ]
  },
  {
   "cell_type": "markdown",
   "id": "6487df48",
   "metadata": {},
   "source": [
    "# Reviews tripadvisor"
   ]
  },
  {
   "cell_type": "code",
   "execution_count": 153,
   "id": "64d8f49b",
   "metadata": {},
   "outputs": [],
   "source": [
    "driver = webdriver.Chrome(ChromeDriverManager().install())\n",
    "driver.get(\"https://www.tripadvisor.com\")"
   ]
  },
  {
   "cell_type": "code",
   "execution_count": 137,
   "id": "ad5afccc",
   "metadata": {},
   "outputs": [],
   "source": [
    "opciones= Options()\n",
    "opciones.add_experimental_option('excludeSwitches', ['enable-automation'])\n",
    "#para ocultarme como robot\n",
    "opciones.add_experimental_option('useAutomationExtension', False)\n",
    "opciones.add_argument('--start-maximized') #empezar maximizado\n",
    "opciones.add_argument('user.data-dir=selenium') #guarda las cookies\n",
    "opciones.add_argument('--incognito')#incognito window"
   ]
  },
  {
   "cell_type": "code",
   "execution_count": 140,
   "id": "202072b6",
   "metadata": {},
   "outputs": [],
   "source": [
    "reviews_tripadvisor = {\"Hotel\": [],\n",
    "                    \"Trip_Rate\": [], \n",
    "                    \"Trip_Location\": [], \n",
    "                    \"Trip_Cleanliness\": [], \n",
    "                    \"Trip_Service\": [], \n",
    "                    \"Trip_Value\": [], \n",
    "                    \"Room_price\": []}\n",
    "    \n",
    "for hotel in hotel_rev: \n",
    "    driver = webdriver.Chrome(ChromeDriverManager().install())\n",
    "    driver.implicitly_wait(9)\n",
    "\n",
    "\n",
    "        ## accedemos a la pagina web\n",
    "    driver.get(\"https://www.tripadvisor.com\")\n",
    "    driver.implicitly_wait(14)\n",
    "\n",
    "        # aceptamos las cookies                \n",
    "\n",
    "    driver.find_element(\"css selector\", \"#onetrust-accept-btn-handler\").click()\n",
    "    sleep(7)\n",
    "\n",
    "    driver.find_element(\"css selector\", \"#lithium-root > main > div.cBOoN > div.rGQXC._T.ivvQp > div > div > div:nth-child(1) > a > span.QLiHN.o.W > span\").click()\n",
    "    sleep(5)\n",
    "\n",
    "    driver.find_element(\"css selector\", \"body > div.kaEuY > div > form > input.qjfqs._G.B-.z._J.Cj.R0\").click()\n",
    "    sleep(5)\n",
    "\n",
    "    driver.find_element(\"css selector\", \"body > div.kaEuY > div > form > input.qjfqs._G.B-.z._J.Cj.R0\").send_keys(f\"{hotel}\", Keys.TAB)\n",
    "    sleep(6)\n",
    "\n",
    "    driver.find_element(\"css selector\", \"#typeahead_results > a:nth-child(2) > div.EtzER > div.biGQs._P.fiohW.fOtGX\").click()\n",
    "    sleep(5)\n",
    "        \n",
    "    reviews_tripadvisor[\"Hotel\"].append(f\"{hotel}\")\n",
    "\n",
    "    try:\n",
    "        reviews_tripadvisor[\"Trip_Rate\"].append(float(driver.find_element(\"css selector\", \"#ABOUT_TAB > div.ui_columns.MXlSZ > div:nth-child(1) > div.grdwI.P > span\").text))\n",
    "    except: \n",
    "        reviews_tripadvisor[\"Trip_Rate\"].append(np.nan)\n",
    "\n",
    "    try:\n",
    "        reviews_tripadvisor[\"Trip_Location\"].append(float(driver.find_element(\"css selector\", \"#ABOUT_TAB > div.ui_columns.MXlSZ > div:nth-child(1) > div.SSDgd > div:nth-child(1) > span.CzVMJ\").text))\n",
    "    except: \n",
    "        reviews_tripadvisor[\"Trip_Location\"].append(np.nan)\n",
    "\n",
    "    try:\n",
    "        reviews_tripadvisor[\"Trip_Cleanliness\"].append(float(driver.find_element(\"css selector\", \"#ABOUT_TAB > div.ui_columns.MXlSZ > div:nth-child(1) > div.SSDgd > div:nth-child(2) > span.CzVMJ\").text))\n",
    "    except: \n",
    "        reviews_tripadvisor[\"Trip_Cleanliness\"].append(np.nan)\n",
    "\n",
    "    try:\n",
    "        reviews_tripadvisor[\"Trip_Service\"].append(float(driver.find_element(\"css selector\", \"#ABOUT_TAB > div.ui_columns.MXlSZ > div:nth-child(1) > div.SSDgd > div:nth-child(3) > span.CzVMJ\").text))\n",
    "    except: \n",
    "        reviews_tripadvisor[\"Trip_Service\"].append(np.nan)\n",
    "\n",
    "    try:\n",
    "        reviews_tripadvisor[\"Trip_Value\"].append(float(driver.find_element(\"css selector\", \"#ABOUT_TAB > div.ui_columns.MXlSZ > div:nth-child(1) > div.SSDgd > div:nth-child(4) > span.CzVMJ\").text))\n",
    "    except: \n",
    "        reviews_tripadvisor[\"Trip_Value\"].append(np.nan)\n",
    "\n",
    "    driver.quit()\n",
    "\n",
    "        #Trip_Rate = driver.find_element(\"css selector\", \"#ABOUT_TAB > div.ui_columns.MXlSZ > div:nth-child(1) > div.grdwI.P > span\").text\n",
    "        #Trip_Location = driver.find_element(\"css selector\", \"#ABOUT_TAB > div.ui_columns.MXlSZ > div:nth-child(1) > div.SSDgd > div:nth-child(1) > span.CzVMJ\").text\n",
    "        #Trip_Cleanliness = driver.find_element(\"css selector\", \"#ABOUT_TAB > div.ui_columns.MXlSZ > div:nth-child(1) > div.SSDgd > div:nth-child(2) > span.CzVMJ\").text\n",
    "        #Trip_Service = driver.find_element(\"css selector\", \"#ABOUT_TAB > div.ui_columns.MXlSZ > div:nth-child(1) > div.SSDgd > div:nth-child(3) > span.CzVMJ\").text\n",
    "        #Trip_Value = driver.find_element(\"css selector\", \"#ABOUT_TAB > div.ui_columns.MXlSZ > div:nth-child(1) > div.SSDgd > div:nth-child(4) > span.CzVMJ\").text\n",
    "        #Room_price = driver.find_element(\"css selector\", \"#ABOUT_TAB > div > div:nth-child(2)\").text"
   ]
  },
  {
   "cell_type": "code",
   "execution_count": 141,
   "id": "03867ed5",
   "metadata": {},
   "outputs": [
    {
     "name": "stdout",
     "output_type": "stream",
     "text": [
      "{'Hotel': ['Rosewood Castiglion del Bosco', 'Grace Hotel', 'Waldorf Astoria Maldives Ithaafushi', 'Pickering House Inn', 'One&Only Reethi Rah', 'Royal Mansour Marrakech', 'Capella Ubud', 'The Lowell', 'Hôtel Madame Rêve', 'Rosewood Villa Magna', 'The Oberoi New Delhi', 'The Oberoi Udaivilas', 'Mandapa, a Ritz-Carlton Reserve', 'Wilderness Safaris Bisate Lodge', 'Portrait Firenze', 'Raffles Istanbul', 'The Oberoi Marrakech', 'Capella Hanoi', 'White Elephant Palm Beach', 'The Loutrel', 'Monasterio', 'Sani Asterias', 'Shangri-La the Shard', 'Coquillade Provence Resort & Spa', 'Taj Palace', 'Pendry Chicago', 'Nayara Tented Camp', 'Hotel Belmar', 'Royal Champagne Hôtel & Spa', 'Under Canvas Mount Rushmore', 'Riggs Washington D.C.', 'Waldorf Astoria Los Cabos Pedregal', 'The Oberoi Vanyavilas Wildlife Resort', 'Canaves Oia Epitome ', 'The Standard ', 'The Oberoi Amarvilas', 'Hotel Santa Caterina', \"Raffles Grand Hotel d'Angkor\", 'Nihi Sumba', 'La Réserve Paris', 'Hotel de la Ville', 'Il San Pietro di Positano', 'Six Senses Yao Noi', 'Finca Cortesin Hotel Golf & Spa', 'Secret Bay', 'Cape Grace', 'Taj Lake Palace', 'Taj Falaknuma Palace', 'Alila Villas Uluwatu', 'Manoir Hovey', 'Six Senses Con Dao', 'Cavas Wine Lodge', 'Grand Hotel Tremezzo', 'Nayara Springs', 'Lodge on Little St. Simons Island', 'Rancho Santana', 'Amanpuri', 'Mandarin Oriental Marrakech', 'Namale Resort & Spa', \"Gibb's Farm\", 'Jade Mountain', 'Borgo Egnazia', 'Four Seasons Hotel Kyoto', 'San Ysidro Ranch', 'The Goring', 'The Oberoi Rajvilas', 'Palm Island Resort', 'Hotel Savoy', 'Rambagh Palace', 'Curtain Bluff', 'Morrison House Old Town Alexandria, Autograph Collection', 'The Lytle Park Hotel, Autograph Collection', 'Twin Farms', 'Deer Path Inn', 'One&Only Nyungwe House', 'W Santiago', 'Shangri-La Singapore', \"L'Ermitage Beverly Hills\", 'Silo Hotel', 'Katikies Santorini', 'Nobu Hotel', 'The Shore Club', 'Taj Holiday Village Resort & Spa', 'Mandarin Oriental Bangkok', 'Auberge Saint-Antoine', 'Rosewood Miramar Beach', 'Rio Celeste Hideaway Hotel', 'Hotel Caesar Augustus', 'Grand Hotel Villa Serbelloni', 'Le Bristol Paris', 'Shangri-La Bosphorus', 'The Palms Turks & Caicos', 'The Lodge at Blue Sky, Auberge Resorts Collection', 'Little Palm Island Resort & Spa', 'Le Sirenuse', 'andBeyond Ngorongoro Crater Lodge', 'Casa San Agustín', 'The Connaught', 'Wentworth Mansion', 'Taj Lands End', 'Birkenhead House', 'Mahali Mzuri', 'Nayara Tented Group', 'The Opposite House', 'Capella Bangkok', 'Kamalame Cay', 'The Temple House', 'Hotel Paracas', 'Savute Elephant Lodge, A Belmond Safari', 'Mandarin Oriental Milan', 'La Reserve Paris', 'Nobu Ryokan', 'Soneva Fushi', 'Alila Manggis', 'Phinda Vlei Lodge', 'Il Sereno Lago di Como', 'Istanbul At Sultanahmet', 'The Peninsula Manila', 'Hotel Il Pellicano', 'Hotel Fasano Boa Vista', 'Halekulani Okinawa', 'The Lake House on Canandaigua', 'Hyatt Regency Amritsar', 'Leela Palace Udaipur', 'Nayara Gardens', 'Rancho Valencia Resort & Spa', 'The Oberoi Mumbai', 'Tierra Atacama Hotel & Spa', 'Viceroy Riviera Maya', 'St. Regis Istanbul', 'Katikies Mykonos', 'The Lanesborough', 'The Roundtree', 'Mashpi Lodge', 'Angama Mara', 'Grand Hotel Excelsior Vittoria', 'Sumaq Machu Picchu Hotel', 'Las Ventanas al Paraíso', 'Viceroy Chicago', 'Singita Grumeti', 'Four Seasons Bangkok', 'The Lodge & Spa at Brush Creek Ranch', 'St. Regis Florence', 'Mandarin Oriental Paris', 'Matetsi Victoria Falls', 'Round Hill Hotel and Villas', 'Khwai River Lodge', 'Soneva Jani', 'Inn of the Five Graces', 'Zadun, a Ritz-Carlton Reserve', 'Mfuwe Lodge', 'InterContinental Bora Bora Resort & Thalasso Spa', 'Banyan Tree Cabo Marqués', 'Ngala Safari Lodge', 'Sasaab', 'The Sukhothai Bangkok', 'The Oberoi Grand', 'Hôtel Plaza Athénée', 'Mahekal Beach Resort', 'The Fullerton Hotel Singapore', 'Casa Chameleon', 'Hôtel Crillon Le Brave', 'Six Senses Laamu', 'The Wickaninnish Inn', 'Penha Longa Resort', 'The St. Regis Bora Bora Resort', 'Lion Sands Game Reserve', 'The Oyster Box', 'The Stafford', 'Tambo del Inka, a Luxury Collection Resort & Spa', 'Cap Maison', 'Tensing Pen', 'Hôtel Le Toiny', 'Rosewood Mayakoba', 'Canaves Oia Boutique Hotel', 'Montage Los Cabos', \"Badrutt's Palace Hotel\"], 'Trip_Rate': [5.0, 5.0, 5.0, 5.0, 5.0, 4.5, 5.0, 4.0, 4.5, 4.5, 5.0, 5.0, 5.0, 4.5, 5.0, 5.0, 5.0, 5.0, 4.5, 5.0, 5.0, 5.0, 5.0, 4.5, 4.5, 4.5, 5.0, 4.5, 4.5, 4.5, 5.0, 5.0, 5.0, 5.0, 4.5, 5.0, 4.5, 4.5, 5.0, 5.0, 5.0, 5.0, 5.0, 4.5, 5.0, 5.0, 5.0, 4.5, 4.5, 4.5, 4.5, 5.0, 5.0, 5.0, 5.0, 5.0, 4.5, 5.0, 5.0, 5.0, 5.0, 4.5, 4.5, 4.5, 5.0, 5.0, 4.5, 4.0, 5.0, 5.0, 4.5, 5.0, 5.0, 5.0, 5.0, 4.0, nan, 4.5, 4.5, 5.0, 5.0, 4.5, 4.5, 5.0, 5.0, 4.5, 4.5, 4.5, 4.5, 5.0, 4.5, 4.5, 5.0, 4.5, 4.5, 5.0, 5.0, 5.0, 5.0, 4.5, 5.0, 5.0, 5.0, 5.0, 5.0, 4.5, 5.0, 4.5, 4.5, 5.0, 5.0, 4.5, 5.0, 4.5, 5.0, nan, 5.0, 4.5, 4.5, 4.5, 4.5, 4.5, 4.0, 5.0, 5.0, 4.5, 5.0, 5.0, 4.5, 4.5, 4.5, 5.0, 4.5, 5.0, 5.0, 5.0, 4.5, 5.0, 4.5, 5.0, 4.5, 5.0, 5.0, 5.0, 5.0, 5.0, 4.5, 5.0, 5.0, 4.5, 5.0, 4.5, 5.0, 5.0, 5.0, 4.5, 5.0, 4.5, 4.5, 4.5, 5.0, 4.5, 5.0, 4.5, 4.5, 5.0, 5.0, 5.0, 5.0, 5.0, 4.5, 5.0, 4.5, 5.0, 5.0, 5.0, 5.0], 'Trip_Location': [4.7, 4.9, 4.9, 5.0, 4.8, 4.9, 4.9, 4.5, 4.6, 4.7, 4.6, 4.9, 4.9, 4.3, 5.0, 4.7, 4.8, 5.0, 5.0, 5.0, 4.9, 4.9, 4.8, 4.8, 4.5, 4.9, 4.9, 4.6, 4.9, 4.8, 4.9, 4.9, 4.9, 4.8, 4.7, 5.0, 4.5, 5.0, 4.9, 4.8, 5.0, 4.9, 4.9, 4.4, 4.9, 4.9, 4.9, 4.6, 4.5, 4.9, 4.8, 4.8, 4.9, 4.9, 4.9, 4.8, 4.8, 4.7, 4.8, 4.7, 4.8, 4.3, 4.5, 4.9, 4.8, 4.5, 4.9, 4.6, 4.8, 4.9, 4.8, 4.9, 4.8, 4.9, 5.0, 4.6, nan, 4.8, 4.9, 4.9, 4.5, 4.7, 4.7, 4.7, 4.9, 4.8, 4.5, 4.9, 4.9, 4.9, 4.6, 4.9, 5.0, 4.9, 4.9, 4.9, 4.9, 4.9, 4.6, 4.6, 4.9, 4.9, 4.9, 4.8, 4.8, 4.8, 4.9, 4.6, 4.9, 4.9, 4.8, 5.0, 4.9, 4.3, 4.9, nan, 4.9, 4.6, 4.8, 4.7, 4.3, 4.8, 4.3, 4.9, 4.8, 4.7, 4.8, 4.8, 4.6, 4.8, 4.7, 4.9, 4.8, 4.9, 5.0, 5.0, 4.7, 4.9, 4.9, 5.0, 4.6, 4.9, 4.8, 4.9, 4.8, 4.8, 4.9, 4.8, 5.0, 4.7, 4.9, 4.9, 4.8, 4.8, 4.8, 4.3, 4.8, 4.9, 4.8, 4.8, 4.9, 4.9, 4.8, 4.9, 4.6, 4.9, 4.9, 5.0, 4.9, 4.7, 4.7, 4.8, 4.8, 4.8, 4.9, 4.9, 4.9], 'Trip_Cleanliness': [4.9, 4.9, 4.9, 4.8, 4.9, 4.9, 5.0, 4.3, 4.6, 4.8, 4.8, 4.9, 5.0, 4.6, 4.9, 4.9, 5.0, 5.0, 4.8, 5.0, 4.9, 4.9, 4.9, 4.8, 4.7, 4.9, 4.9, 4.7, 4.9, 4.7, 4.9, 4.9, 5.0, 4.9, 4.5, 4.9, 4.7, 5.0, 4.9, 5.0, 5.0, 4.8, 4.9, 4.9, 5.0, 4.9, 4.9, 4.9, 4.8, 4.8, 4.7, 4.7, 4.9, 5.0, 4.8, 4.9, 4.8, 4.9, 4.8, 4.9, 4.9, 4.9, 4.8, 4.9, 4.9, 4.9, 4.7, 4.4, 4.9, 4.8, 4.8, 4.9, 4.9, 5.0, 5.0, 4.5, nan, 4.9, 4.9, 4.9, 4.9, 4.9, 4.5, 4.9, 4.9, 4.8, 4.8, 4.7, 4.6, 4.9, 4.7, 4.8, 4.7, 4.7, 4.9, 4.8, 4.9, 4.9, 4.8, 4.7, 4.9, 5.0, 4.9, 4.8, 5.0, 4.6, 4.9, 4.8, 4.9, 4.9, 5.0, 4.8, 4.9, 4.7, 4.9, nan, 4.9, 4.6, 4.8, 4.7, 4.6, 4.8, 4.4, 4.9, 4.9, 4.9, 4.9, 4.8, 4.8, 4.8, 4.9, 4.9, 4.5, 4.9, 4.9, 4.9, 4.8, 4.9, 4.8, 4.9, 4.9, 4.9, 4.9, 4.9, 5.0, 4.8, 4.9, 4.9, 4.9, 4.6, 4.9, 4.8, 4.8, 4.9, 4.9, 4.8, 4.8, 4.9, 4.8, 4.7, 5.0, 4.9, 4.9, 4.8, 4.8, 4.8, 4.9, 4.9, 4.8, 5.0, 4.7, 4.7, 4.8, 4.9, 4.8, 4.9, 4.9], 'Trip_Service': [4.8, 4.8, 4.8, 4.9, 4.8, 4.7, 5.0, 3.7, 4.6, 4.7, 4.8, 4.8, 4.9, 4.9, 4.9, 4.9, 5.0, 5.0, 4.9, 4.9, 4.8, 4.9, 4.6, 4.7, 4.6, 4.8, 4.9, 4.7, 4.6, 4.7, 4.8, 4.9, 5.0, 4.9, 4.2, 4.8, 4.6, 4.7, 4.9, 4.9, 4.8, 4.8, 4.8, 4.7, 5.0, 4.9, 4.9, 4.8, 4.8, 4.8, 4.7, 4.8, 4.8, 4.9, 4.9, 4.8, 4.6, 4.8, 4.9, 4.8, 4.8, 4.5, 4.5, 4.7, 4.8, 4.9, 4.7, 4.3, 4.8, 4.8, 4.7, 4.9, 4.8, 5.0, 4.9, 4.2, nan, 4.8, 4.7, 4.9, 4.8, 4.5, 4.5, 4.9, 4.8, 4.3, 4.7, 4.5, 4.4, 4.9, 4.7, 4.6, 4.7, 4.7, 4.8, 4.8, 4.9, 4.8, 4.9, 4.6, 4.9, 5.0, 4.9, 4.8, 4.9, 4.6, 4.9, 4.6, 4.9, 4.8, 4.9, 4.6, 4.9, 4.8, 4.9, nan, 4.9, 4.6, 4.7, 4.6, 4.0, 4.2, 4.2, 4.9, 4.9, 4.8, 4.8, 4.8, 4.8, 4.8, 4.9, 4.9, 4.7, 4.9, 4.9, 4.8, 4.8, 4.9, 4.7, 4.9, 4.6, 4.9, 4.8, 4.8, 5.0, 4.7, 4.8, 4.8, 4.9, 4.7, 4.9, 4.6, 4.7, 4.9, 4.9, 4.7, 4.8, 4.8, 4.7, 4.5, 4.9, 4.6, 4.9, 4.7, 4.6, 4.7, 4.9, 4.9, 4.8, 4.8, 4.6, 4.6, 4.7, 4.9, 4.8, 5.0, 4.8], 'Trip_Value': [4.4, 4.4, 4.5, 4.4, 4.2, 4.3, 4.8, 3.6, 4.3, 4.2, 4.3, 4.6, 4.7, 4.5, 4.6, 4.6, 4.9, 4.7, 3.8, 4.8, 4.3, 4.5, 4.3, 4.3, 4.3, 4.6, 4.8, 4.4, 4.4, 4.2, 4.6, 4.5, 4.7, 4.6, 3.7, 4.4, 4.3, 4.5, 4.7, 4.6, 4.5, 4.3, 4.5, 4.2, 4.8, 4.5, 4.5, 4.5, 4.4, 4.4, 4.2, 4.4, 4.2, 4.8, 4.5, 4.7, 4.0, 4.5, 4.5, 4.5, 4.2, 4.0, 4.0, 4.0, 4.4, 4.6, 4.5, 4.0, 4.6, 4.5, 4.3, 4.8, 4.3, 4.7, 4.5, 3.8, nan, 4.5, 4.3, 4.4, 4.7, 4.3, 4.2, 4.4, 4.5, 4.0, 4.5, 4.0, 3.7, 4.4, 4.3, 4.3, 4.5, 4.1, 4.3, 4.4, 4.6, 4.3, 4.6, 4.3, 4.6, 4.8, 4.8, 4.4, 4.8, 4.3, 4.7, 4.3, 4.5, 4.5, 4.6, 3.6, 4.6, 4.4, 4.6, nan, 4.4, 4.2, 3.9, 3.9, 3.6, 3.8, 4.1, 4.5, 4.7, 4.3, 4.5, 4.4, 4.3, 4.6, 4.5, 4.6, 4.3, 4.6, 4.8, 4.4, 4.3, 4.4, 4.5, 4.6, 4.3, 4.6, 4.4, 4.4, 4.9, 4.3, 4.4, 4.6, 4.6, 4.5, 4.7, 4.2, 4.3, 4.7, 4.8, 4.4, 4.5, 4.4, 4.4, 4.1, 4.7, 4.2, 4.5, 4.2, 4.3, 4.3, 4.7, 4.5, 4.4, 4.6, 4.3, 4.5, 4.7, 4.5, 4.4, 4.6, 4.4], 'Room_price': []}\n"
     ]
    }
   ],
   "source": [
    "print(reviews_tripadvisor)"
   ]
  },
  {
   "cell_type": "code",
   "execution_count": null,
   "id": "90e6bb2e",
   "metadata": {},
   "outputs": [],
   "source": [
    "datos_trip = pd.DataFrame(reviews_tripadvisor, columns=[\"Hotel\",\"Trip_Rate\",\"Trip_Location\",\"Trip_Cleanliness\",\"Trip_Service\",\"Trip_Value\"]"
   ]
  },
  {
   "cell_type": "markdown",
   "id": "99b62544",
   "metadata": {},
   "source": [
    "# CLEANING TRIP"
   ]
  },
  {
   "cell_type": "markdown",
   "id": "5e7e4ec6",
   "metadata": {},
   "source": [
    "Filling the two empty hotels : Shangri-La Singapore & Il Sereno"
   ]
  },
  {
   "cell_type": "code",
   "execution_count": 155,
   "id": "0b909570",
   "metadata": {},
   "outputs": [
    {
     "data": {
      "text/html": [
       "<div>\n",
       "<style scoped>\n",
       "    .dataframe tbody tr th:only-of-type {\n",
       "        vertical-align: middle;\n",
       "    }\n",
       "\n",
       "    .dataframe tbody tr th {\n",
       "        vertical-align: top;\n",
       "    }\n",
       "\n",
       "    .dataframe thead th {\n",
       "        text-align: right;\n",
       "    }\n",
       "</style>\n",
       "<table border=\"1\" class=\"dataframe\">\n",
       "  <thead>\n",
       "    <tr style=\"text-align: right;\">\n",
       "      <th></th>\n",
       "      <th>Hotel</th>\n",
       "      <th>Trip_Rate</th>\n",
       "      <th>Trip_Location</th>\n",
       "      <th>Trip_Cleanliness</th>\n",
       "      <th>Trip_Service</th>\n",
       "      <th>Trip_Value</th>\n",
       "    </tr>\n",
       "  </thead>\n",
       "  <tbody>\n",
       "    <tr>\n",
       "      <th>76</th>\n",
       "      <td>Shangri-La Singapore</td>\n",
       "      <td>4.5</td>\n",
       "      <td>4.4</td>\n",
       "      <td>4.7</td>\n",
       "      <td>4.7</td>\n",
       "      <td>4.2</td>\n",
       "    </tr>\n",
       "  </tbody>\n",
       "</table>\n",
       "</div>"
      ],
      "text/plain": [
       "                   Hotel  Trip_Rate  Trip_Location  Trip_Cleanliness  \\\n",
       "76  Shangri-La Singapore        4.5            4.4               4.7   \n",
       "\n",
       "    Trip_Service  Trip_Value  \n",
       "76           4.7         4.2  "
      ]
     },
     "execution_count": 155,
     "metadata": {},
     "output_type": "execute_result"
    }
   ],
   "source": [
    "datos_trip.loc[76, 'Trip_Rate'] = 4.5\n",
    "datos_trip.loc[76, 'Trip_Location'] = 4.4\n",
    "datos_trip.loc[76, 'Trip_Cleanliness'] = 4.7\n",
    "datos_trip.loc[76, 'Trip_Service'] = 4.7\n",
    "datos_trip.loc[76, 'Trip_Value'] = 4.2\n",
    "datos_trip.loc[[76]]"
   ]
  },
  {
   "cell_type": "code",
   "execution_count": 156,
   "id": "1f702f9a",
   "metadata": {},
   "outputs": [],
   "source": [
    "datos_trip.to_csv(\"Data/df_datos_trip.csv\")"
   ]
  },
  {
   "cell_type": "markdown",
   "id": "9544b4e2",
   "metadata": {},
   "source": [
    "# Reviews Google"
   ]
  },
  {
   "cell_type": "code",
   "execution_count": 16,
   "id": "36ad7ead",
   "metadata": {},
   "outputs": [
    {
     "name": "stderr",
     "output_type": "stream",
     "text": [
      "[WDM] - Downloading: 100%|█████████████████| 8.61M/8.61M [00:00<00:00, 15.8MB/s]\n"
     ]
    }
   ],
   "source": [
    "    reviews_google = {\"Hotel_buscador\": [],\n",
    "                    \"Google_Rate\": [], \n",
    "                    \"Google_Habs\": [], \n",
    "                    \"Google_Location\": [], \n",
    "                    \"Google_Service\": []}\n",
    "    \n",
    "    for hotel in hotel_rev_google: \n",
    "        driver = webdriver.Chrome(ChromeDriverManager().install())\n",
    "        driver.implicitly_wait(10)\n",
    "            ## accedemos a la pagina web\n",
    "        driver.get(\"https://www.google.com\")\n",
    "        driver.implicitly_wait(8)\n",
    "\n",
    "        driver.find_element(\"css selector\", \"#L2AGLb > div\").click()\n",
    "        sleep(4)\n",
    "\n",
    "        driver.find_element(\"css selector\", \"body > div.L3eUgb > div.o3j99.ikrT4e.om7nvf > form > div:nth-child(1) > div.A8SBwf > div.RNNXgb > div > div.a4bIc > input\").send_keys(f\"{hotel}\", Keys.ENTER)\n",
    "        sleep(10)\n",
    "        \n",
    "        reviews_google[\"Hotel_buscador\"].append(hotel)\n",
    "        \n",
    "        try:\n",
    "            reviews_google[\"Google_Rate\"].append(float(driver.find_element(\"xpath\", '/html/body/div[7]/div/div[11]/div[2]/div/div/div[2]/div/div[1]/div/div[2]/div[2]/div/div/span[1]').text.replace(\",\", \".\")))\n",
    "        except: \n",
    "            reviews_google[\"Google_Rate\"].append(np.nan)\n",
    "\n",
    "        try:\n",
    "            reviews_google[\"Google_Habs\"].append(float(driver.find_element(\"xpath\", '/html/body/div[7]/div/div[11]/div[2]/div/div/div[2]/div/div[3]/div/div/div/div/div[4]/div/div/div/div/div/div/div/div[3]/div[1]/span[3]/span/span[1]').text.replace(\",\", \".\")))\n",
    "        except: \n",
    "            reviews_google[\"Google_Habs\"].append(np.nan)\n",
    "\n",
    "        try:\n",
    "            reviews_google[\"Google_Location\"].append(float(driver.find_element(\"xpath\", '/html/body/div[7]/div/div[11]/div[2]/div/div/div[2]/div/div[3]/div/div/div/div/div[4]/div/div/div/div/div/div/div/div[3]/div[2]/span[3]/span/span[1]').text.replace(\",\", \".\")))\n",
    "        except: \n",
    "            reviews_google[\"Google_Location\"].append(np.nan)\n",
    "\n",
    "        try:\n",
    "            reviews_google[\"Google_Service\"].append(float(driver.find_element(\"xpath\", '/html/body/div[7]/div/div[11]/div[2]/div/div/div[2]/div/div[3]/div/div/div/div/div[4]/div/div/div/div/div/div/div/div[3]/div[3]/span[3]/span/span[1]').text.replace(\",\", \".\")))\n",
    "        except: \n",
    "            reviews_google[\"Google_Service\"].append(np.nan)\n",
    "\n",
    "        driver.quit()\n",
    "    \n",
    "    #Google_Rate = float(driver.find_element(\"xpath\", '/html/body/div[7]/div/div[11]/div[2]/div/div/div[2]/div/div[1]/div/div[2]/div[2]/div/div/span[1]').text.replace(\",\", \".\"))\n",
    "    #Google_Habs = float(driver.find_element(\"xpath\", '/html/body/div[7]/div/div[11]/div[2]/div/div/div[2]/div/div[3]/div/div/div/div/div[4]/div/div/div/div/div/div/div/div[3]/div[1]/span[3]/span/span[1]').text.replace(\",\", \".\"))\n",
    "    #Google_Ubi =float(driver.find_element(\"xpath\", '/html/body/div[7]/div/div[11]/div[2]/div/div/div[2]/div/div[3]/div/div/div/div/div[4]/div/div/div/div/div/div/div/div[3]/div[2]/span[3]/span/span[1]').text.replace(\",\", \".\"))\n",
    "    #Google_Service =float(driver.find_element(\"xpath\", '/html/body/div[7]/div/div[11]/div[2]/div/div/div[2]/div/div[3]/div/div/div/div/div[4]/div/div/div/div/div/div/div/div[3]/div[3]/span[3]/span/span[1]').text.replace(\",\", \".\"))\n"
   ]
  },
  {
   "cell_type": "code",
   "execution_count": 21,
   "id": "0d0e0654",
   "metadata": {},
   "outputs": [
    {
     "data": {
      "text/html": [
       "<div>\n",
       "<style scoped>\n",
       "    .dataframe tbody tr th:only-of-type {\n",
       "        vertical-align: middle;\n",
       "    }\n",
       "\n",
       "    .dataframe tbody tr th {\n",
       "        vertical-align: top;\n",
       "    }\n",
       "\n",
       "    .dataframe thead th {\n",
       "        text-align: right;\n",
       "    }\n",
       "</style>\n",
       "<table border=\"1\" class=\"dataframe\">\n",
       "  <thead>\n",
       "    <tr style=\"text-align: right;\">\n",
       "      <th></th>\n",
       "      <th>Hotel</th>\n",
       "      <th>Google_Rate</th>\n",
       "      <th>Google_Habs</th>\n",
       "      <th>Google_Location</th>\n",
       "      <th>Google_Service</th>\n",
       "    </tr>\n",
       "  </thead>\n",
       "  <tbody>\n",
       "    <tr>\n",
       "      <th>0</th>\n",
       "      <td>NaN</td>\n",
       "      <td>4.8</td>\n",
       "      <td>4.3</td>\n",
       "      <td>4.1</td>\n",
       "      <td>4.6</td>\n",
       "    </tr>\n",
       "    <tr>\n",
       "      <th>1</th>\n",
       "      <td>NaN</td>\n",
       "      <td>4.4</td>\n",
       "      <td>NaN</td>\n",
       "      <td>NaN</td>\n",
       "      <td>NaN</td>\n",
       "    </tr>\n",
       "    <tr>\n",
       "      <th>2</th>\n",
       "      <td>NaN</td>\n",
       "      <td>4.7</td>\n",
       "      <td>4.6</td>\n",
       "      <td>4.6</td>\n",
       "      <td>4.6</td>\n",
       "    </tr>\n",
       "    <tr>\n",
       "      <th>3</th>\n",
       "      <td>NaN</td>\n",
       "      <td>4.9</td>\n",
       "      <td>NaN</td>\n",
       "      <td>NaN</td>\n",
       "      <td>NaN</td>\n",
       "    </tr>\n",
       "    <tr>\n",
       "      <th>4</th>\n",
       "      <td>NaN</td>\n",
       "      <td>4.7</td>\n",
       "      <td>4.1</td>\n",
       "      <td>4.6</td>\n",
       "      <td>4.2</td>\n",
       "    </tr>\n",
       "  </tbody>\n",
       "</table>\n",
       "</div>"
      ],
      "text/plain": [
       "  Hotel  Google_Rate  Google_Habs  Google_Location  Google_Service\n",
       "0   NaN          4.8          4.3              4.1             4.6\n",
       "1   NaN          4.4          NaN              NaN             NaN\n",
       "2   NaN          4.7          4.6              4.6             4.6\n",
       "3   NaN          4.9          NaN              NaN             NaN\n",
       "4   NaN          4.7          4.1              4.6             4.2"
      ]
     },
     "execution_count": 21,
     "metadata": {},
     "output_type": "execute_result"
    }
   ],
   "source": [
    "datos_google = pd.DataFrame(reviews_google, columns=[\"Hotel\",\"Google_Rate\",\"Google_Habs\",\"Google_Location\",\"Google_Service\"])\n",
    "datos_google.head() "
   ]
  },
  {
   "cell_type": "code",
   "execution_count": null,
   "id": "992a3092",
   "metadata": {},
   "outputs": [],
   "source": [
    "datos_google = datos_google.assign(Hotel = df_hoteles_google[\"Hotel\"])"
   ]
  },
  {
   "cell_type": "markdown",
   "id": "a2fdcb3a",
   "metadata": {},
   "source": [
    "# Revision Scrapping Google"
   ]
  },
  {
   "cell_type": "code",
   "execution_count": 34,
   "id": "d3ea2c9e",
   "metadata": {},
   "outputs": [
    {
     "data": {
      "text/html": [
       "<div>\n",
       "<style scoped>\n",
       "    .dataframe tbody tr th:only-of-type {\n",
       "        vertical-align: middle;\n",
       "    }\n",
       "\n",
       "    .dataframe tbody tr th {\n",
       "        vertical-align: top;\n",
       "    }\n",
       "\n",
       "    .dataframe thead th {\n",
       "        text-align: right;\n",
       "    }\n",
       "</style>\n",
       "<table border=\"1\" class=\"dataframe\">\n",
       "  <thead>\n",
       "    <tr style=\"text-align: right;\">\n",
       "      <th></th>\n",
       "      <th>Hotel</th>\n",
       "      <th>Google_Rate</th>\n",
       "      <th>Google_Habs</th>\n",
       "      <th>Google_Location</th>\n",
       "      <th>Google_Service</th>\n",
       "    </tr>\n",
       "  </thead>\n",
       "  <tbody>\n",
       "    <tr>\n",
       "      <th>1</th>\n",
       "      <td>Grace Hotel</td>\n",
       "      <td>4.6</td>\n",
       "      <td>4.8</td>\n",
       "      <td>4.6</td>\n",
       "      <td>4.5</td>\n",
       "    </tr>\n",
       "  </tbody>\n",
       "</table>\n",
       "</div>"
      ],
      "text/plain": [
       "         Hotel  Google_Rate  Google_Habs  Google_Location  Google_Service\n",
       "1  Grace Hotel          4.6          4.8              4.6             4.5"
      ]
     },
     "execution_count": 34,
     "metadata": {},
     "output_type": "execute_result"
    }
   ],
   "source": [
    "datos_google.loc[1, 'Google_Rate'] = 4.6\n",
    "datos_google.loc[1, 'Google_Habs'] = 4.8\n",
    "datos_google.loc[1, 'Google_Location'] = 4.6\n",
    "datos_google.loc[1, 'Google_Service'] = 4.5\n",
    "\n",
    "datos_google.loc[[1]]"
   ]
  },
  {
   "cell_type": "code",
   "execution_count": 122,
   "id": "1da80958",
   "metadata": {},
   "outputs": [
    {
     "data": {
      "text/html": [
       "<div>\n",
       "<style scoped>\n",
       "    .dataframe tbody tr th:only-of-type {\n",
       "        vertical-align: middle;\n",
       "    }\n",
       "\n",
       "    .dataframe tbody tr th {\n",
       "        vertical-align: top;\n",
       "    }\n",
       "\n",
       "    .dataframe thead th {\n",
       "        text-align: right;\n",
       "    }\n",
       "</style>\n",
       "<table border=\"1\" class=\"dataframe\">\n",
       "  <thead>\n",
       "    <tr style=\"text-align: right;\">\n",
       "      <th></th>\n",
       "      <th>Hotel</th>\n",
       "      <th>Google_Rate</th>\n",
       "      <th>Google_Habs</th>\n",
       "      <th>Google_Location</th>\n",
       "      <th>Google_Service</th>\n",
       "    </tr>\n",
       "  </thead>\n",
       "  <tbody>\n",
       "    <tr>\n",
       "      <th>96</th>\n",
       "      <td>Casa San Agustín</td>\n",
       "      <td>4.6</td>\n",
       "      <td>4.4</td>\n",
       "      <td>4.8</td>\n",
       "      <td>4.7</td>\n",
       "    </tr>\n",
       "  </tbody>\n",
       "</table>\n",
       "</div>"
      ],
      "text/plain": [
       "               Hotel  Google_Rate  Google_Habs  Google_Location  \\\n",
       "96  Casa San Agustín          4.6          4.4              4.8   \n",
       "\n",
       "    Google_Service  \n",
       "96             4.7  "
      ]
     },
     "execution_count": 122,
     "metadata": {},
     "output_type": "execute_result"
    }
   ],
   "source": [
    "datos_google.loc[198, 'Google_Rate'] = 4.8\n",
    "datos_google.loc[193, 'Google_Habs'] = 4.0\n",
    "datos_google.loc[193, 'Google_Location'] = 4.3\n",
    "datos_google.loc[193, 'Google_Service'] = 4.0\n",
    "\n",
    "datos_google.loc[[96]]"
   ]
  },
  {
   "cell_type": "code",
   "execution_count": 143,
   "id": "5c1e7178",
   "metadata": {},
   "outputs": [],
   "source": [
    "datos_google.to_csv(\"Data/df_datos_google.csv\")"
   ]
  },
  {
   "cell_type": "code",
   "execution_count": 10,
   "id": "c01e7112",
   "metadata": {},
   "outputs": [
    {
     "data": {
      "text/plain": [
       "(201, 5)"
      ]
     },
     "execution_count": 10,
     "metadata": {},
     "output_type": "execute_result"
    }
   ],
   "source": [
    "datos_google = pd.read_csv(\"Data/df_datos_google.csv\", sep=',', encoding='UTF-8', index_col=0)\n",
    "datos_google.shape"
   ]
  },
  {
   "cell_type": "markdown",
   "id": "2213e381",
   "metadata": {},
   "source": [
    "I remove the duplicate hotels, they have the same values."
   ]
  },
  {
   "cell_type": "code",
   "execution_count": 12,
   "id": "9c3a739a",
   "metadata": {},
   "outputs": [
    {
     "data": {
      "text/plain": [
       "(178, 5)"
      ]
     },
     "execution_count": 12,
     "metadata": {},
     "output_type": "execute_result"
    }
   ],
   "source": [
    "datos_google_unicos = datos_google.drop_duplicates()\n",
    "datos_google_unicos.shape"
   ]
  },
  {
   "cell_type": "code",
   "execution_count": 13,
   "id": "25a8927a",
   "metadata": {},
   "outputs": [],
   "source": [
    "datos_google_unicos.to_csv(\"Data/df_datos_google_unicos.csv\")"
   ]
  },
  {
   "cell_type": "code",
   "execution_count": 14,
   "id": "c47a6cce",
   "metadata": {},
   "outputs": [
    {
     "data": {
      "text/html": [
       "<div>\n",
       "<style scoped>\n",
       "    .dataframe tbody tr th:only-of-type {\n",
       "        vertical-align: middle;\n",
       "    }\n",
       "\n",
       "    .dataframe tbody tr th {\n",
       "        vertical-align: top;\n",
       "    }\n",
       "\n",
       "    .dataframe thead th {\n",
       "        text-align: right;\n",
       "    }\n",
       "</style>\n",
       "<table border=\"1\" class=\"dataframe\">\n",
       "  <thead>\n",
       "    <tr style=\"text-align: right;\">\n",
       "      <th></th>\n",
       "      <th>Hotel</th>\n",
       "      <th>Google_Rate</th>\n",
       "      <th>Google_Habs</th>\n",
       "      <th>Google_Location</th>\n",
       "      <th>Google_Service</th>\n",
       "    </tr>\n",
       "  </thead>\n",
       "  <tbody>\n",
       "    <tr>\n",
       "      <th>0</th>\n",
       "      <td>Rosewood Castiglion del Bosco</td>\n",
       "      <td>4.8</td>\n",
       "      <td>4.3</td>\n",
       "      <td>4.1</td>\n",
       "      <td>4.6</td>\n",
       "    </tr>\n",
       "  </tbody>\n",
       "</table>\n",
       "</div>"
      ],
      "text/plain": [
       "                           Hotel  Google_Rate  Google_Habs  Google_Location  \\\n",
       "0  Rosewood Castiglion del Bosco          4.8          4.3              4.1   \n",
       "\n",
       "   Google_Service  \n",
       "0             4.6  "
      ]
     },
     "execution_count": 14,
     "metadata": {},
     "output_type": "execute_result"
    }
   ],
   "source": [
    "datos_google_unicos.head(1)"
   ]
  },
  {
   "cell_type": "code",
   "execution_count": null,
   "id": "c1677fc4",
   "metadata": {},
   "outputs": [],
   "source": []
  }
 ],
 "metadata": {
  "kernelspec": {
   "display_name": "IRONHACK",
   "language": "python",
   "name": "ironhack"
  },
  "language_info": {
   "codemirror_mode": {
    "name": "ipython",
    "version": 3
   },
   "file_extension": ".py",
   "mimetype": "text/x-python",
   "name": "python",
   "nbconvert_exporter": "python",
   "pygments_lexer": "ipython3",
   "version": "3.10.8"
  }
 },
 "nbformat": 4,
 "nbformat_minor": 5
}
