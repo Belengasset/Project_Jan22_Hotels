{
 "cells": [
  {
   "cell_type": "markdown",
   "id": "7fd7717f",
   "metadata": {},
   "source": [
    "# Conclusions"
   ]
  },
  {
   "cell_type": "code",
   "execution_count": 1,
   "id": "037a297a",
   "metadata": {},
   "outputs": [],
   "source": [
    "import pandas as pd\n",
    "import numpy as np\n",
    "import matplotlib.pyplot as plt\n",
    "import seaborn as sns\n",
    "import plotly.express as px\n",
    "import datetime"
   ]
  },
  {
   "cell_type": "markdown",
   "id": "5d155510",
   "metadata": {},
   "source": [
    "Once the data is clean and uploaded in SQL we will draw conclusions about the hotels, the reviews of the websites and see if the ranking proposed by the magazine is the same as the users' opinion."
   ]
  },
  {
   "cell_type": "code",
   "execution_count": 2,
   "id": "32cbee0b",
   "metadata": {},
   "outputs": [],
   "source": [
    "google_reviews = pd.read_csv(\"Data/df_datos_google_clean.csv\", sep=',', encoding='UTF-8', index_col=0)\n",
    "trip_reviews = pd.read_csv(\"Data/df_datos_trip.csv\", sep=',', encoding='UTF-8', index_col=0)\n",
    "hotels_travel_and_leisure = pd.read_csv(\"Data/df_hotels_22&21_clean.csv\", sep=',', encoding='UTF-8', index_col=0)"
   ]
  },
  {
   "cell_type": "code",
   "execution_count": null,
   "id": "c992092e",
   "metadata": {},
   "outputs": [],
   "source": []
  }
 ],
 "metadata": {
  "kernelspec": {
   "display_name": "IRONHACK",
   "language": "python",
   "name": "ironhack"
  },
  "language_info": {
   "codemirror_mode": {
    "name": "ipython",
    "version": 3
   },
   "file_extension": ".py",
   "mimetype": "text/x-python",
   "name": "python",
   "nbconvert_exporter": "python",
   "pygments_lexer": "ipython3",
   "version": "3.10.8"
  }
 },
 "nbformat": 4,
 "nbformat_minor": 5
}
