{
 "cells": [
  {
   "cell_type": "markdown",
   "id": "a036aa75",
   "metadata": {},
   "source": [
    "# Para el readme:\n",
    "\n",
    "El data set lo he extraido de [Kaggle Data Sets](https://www.kaggle.com/datasets).\n",
    "\n",
    "En el siguiente link tendras acceso al data set original: https://www.kaggle.com/datasets/narmelan/travelleisure-worlds-best-hotels-2022\n",
    "\n",
    "**¿Que es Travel+ Leisure?**\n",
    "Travel + Leisure es una revista de viajes con sede en la ciudad de Nueva York, Nueva York. Publicado 12 veces al año, tiene 4,8 millones de lectores, según su media kit corporativo.\n",
    "\n",
    "En el documento \"limpieza\" se realiza :\n",
    "- limpio los datos del csv de 2022\n",
    "- hago el mismo analisis para los datos de 2021\n",
    "- junto los dos csv (2022 + 2021)\n",
    "\n",
    "En el documento \"analisis\" se realiza:\n",
    "hago un analisis de los 3 data sets para sacar conclusiones y ver si hay datos raros/nuevos/conclus\n",
    "con los graficos y tablas\n",
    "veo si tengo que reemplazar algun dato que no sea significativo\n",
    "\n",
    "quiero crear un mapa con los hoteles --> \n",
    "- API : la de google maps me cobra pero tengo prueba gratuita\n",
    "- lo puedo hacer tambien con la libreria pero tengo que sacar las coordenas primero\n",
    "\n",
    "Web scraping :\n",
    "- con una web estilo trip advisor me saco mas info de los hoteles como:\n",
    "Location\n",
    "Cleanliness\n",
    "Service\n",
    "Value\n",
    "\n",
    "Property amenities --> con esto podria comparar hoteles entre si --> por ej si tienen piscina o no \n",
    "que es mejor por web scraping o por API --> no he encontrado \n"
   ]
  },
  {
   "cell_type": "code",
   "execution_count": null,
   "id": "10ccf16d",
   "metadata": {},
   "outputs": [],
   "source": []
  }
 ],
 "metadata": {
  "kernelspec": {
   "display_name": "IRONHACK",
   "language": "python",
   "name": "ironhack"
  },
  "language_info": {
   "codemirror_mode": {
    "name": "ipython",
    "version": 3
   },
   "file_extension": ".py",
   "mimetype": "text/x-python",
   "name": "python",
   "nbconvert_exporter": "python",
   "pygments_lexer": "ipython3",
   "version": "3.10.8"
  }
 },
 "nbformat": 4,
 "nbformat_minor": 5
}
